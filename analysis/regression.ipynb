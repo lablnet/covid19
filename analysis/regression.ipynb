{
 "cells": [
  {
   "cell_type": "code",
   "execution_count": 51,
   "metadata": {
    "scrolled": true
   },
   "outputs": [],
   "source": [
    "import pandas as pd\n",
    "import numpy as np\n",
    "import datetime as dt\n",
    "\n",
    "df = pd.read_csv('dailyStats.csv')\n",
    "# df=df[df['type']=='INFECTED']\n",
    "dfx=df['datetime']\n",
    "dfy=df[\"new_cases\"]\n",
    "raw_y=dfy.to_numpy()\n",
    "y=dfy\n",
    "# for i in range(raw_y.shape[0]):\n",
    "#     y.append(int(raw_y[i].split(' ')[0].replace(',','')))\n",
    "y=np.array(y)\n",
    "dfx=pd.to_datetime(dfx)\n",
    "dfx=dfx.map(dt.datetime.toordinal)\n",
    "x=dfx.to_numpy()\n",
    "x=x[:,np.newaxis]\n"
   ]
  },
  {
   "cell_type": "code",
   "execution_count": null,
   "metadata": {},
   "outputs": [],
   "source": []
  },
  {
   "cell_type": "code",
   "execution_count": 52,
   "metadata": {},
   "outputs": [
    {
     "name": "stdout",
     "output_type": "stream",
     "text": [
      "(463, 463, 3)\n",
      "Accuracy 27.37178419579983% on test size\n"
     ]
    },
    {
     "data": {
      "text/plain": [
       "[<matplotlib.lines.Line2D at 0x1fd005a5940>]"
      ]
     },
     "execution_count": 52,
     "metadata": {},
     "output_type": "execute_result"
    },
    {
     "data": {
      "image/png": "[encoded data removed]",
      "text/plain": [
       "<Figure size 432x288 with 1 Axes>"
      ]
     },
     "metadata": {
      "needs_background": "light"
     },
     "output_type": "display_data"
    }
   ],
   "source": [
    "from sklearn.linear_model import LinearRegression\n",
    "from sklearn.model_selection import train_test_split\n",
    "import matplotlib.pyplot as plt\n",
    "from datetime import datetime\n",
    "from sklearn.preprocessing import PolynomialFeatures\n",
    "poly_features=PolynomialFeatures(degree=\n",
    "                                 2)\n",
    "x=poly_features.fit_transform(x)\n",
    "tau = .005\n",
    "w = np.array([np.exp(- (x - x[i])**2/(2*tau)) for i in range(x.shape[0])])\n",
    "print(w.shape)\n",
    "\n",
    "x_train,x_test,y_train,y_test=train_test_split(x,y,test_size=0.10,random_state=1000)\n",
    "clf = LinearRegression()\n",
    "clf.fit(x_train,y_train)\n",
    "\n",
    "s=clf.score(x_test,y_test)\n",
    "print(\"Accuracy {0}% on test size\".format(s*100))\n",
    "y_pred=clf.predict(x_train)\n",
    "\n",
    "tempDates = x_train[:,[0]]\n",
    "# dates = []\n",
    "# for item in tempDates:\n",
    "#     dates.append(str(datetime.fromordinal(item[0])))\n",
    "\n",
    "# dates = np.array([dates]).reshape([118,1])\n",
    "# import matplotlib.dates as mdates\n",
    "\n",
    "\n",
    "\n",
    "# dates.shape\n",
    "\n",
    "# plt.gca().xaxis.set_major_formatter(mdates.DateFormatter('%m-%d'))\n",
    "# plt.gca().xaxis.set_major_locator(mdates.DayLocator(interval=5))\n",
    "\n",
    "plt.scatter(x_train[:,[0]],y_train)\n",
    "plt.plot(x_train[:,[0]],y_pred,color=\"orange\")"
   ]
  },
  {
   "cell_type": "code",
   "execution_count": 53,
   "metadata": {
    "scrolled": true
   },
   "outputs": [
    {
     "name": "stdout",
     "output_type": "stream",
     "text": [
      "2021-05-12 00:00:00 3497\n",
      "2021-05-13 00:00:00 3507\n",
      "2021-05-14 00:00:00 3518\n",
      "2021-05-15 00:00:00 3529\n",
      "2021-05-16 00:00:00 3539\n"
     ]
    }
   ],
   "source": [
    "v1=dt.datetime.now().toordinal()\n",
    "from datetime import timedelta  \n",
    "import math\n",
    "from datetime import datetime\n",
    "\n",
    "\n",
    "dates = []\n",
    "for i in range(1, 6):\n",
    "    dates.append((dt.datetime.now() + timedelta(days=i)).toordinal())\n",
    "\n",
    "v=np.array(dates)\n",
    "i = 0\n",
    "v=poly_features.fit_transform(v[:,np.newaxis])\n",
    "\n",
    "cases = clf.predict(v)\n",
    "for item in cases:\n",
    "    date = str(datetime.fromordinal(dates[i]))\n",
    "    print(date, math.ceil(item))\n",
    "    i = i + 1"
   ]
  },
  {
   "cell_type": "code",
   "execution_count": 112,
   "metadata": {},
   "outputs": [
    {
     "name": "stdout",
     "output_type": "stream",
     "text": [
      "1778\n",
      "1778\n",
      "1778\n",
      "1778\n",
      "1778\n",
      "1778\n",
      "1778\n",
      "1778\n",
      "1778\n",
      "1778\n"
     ]
    }
   ],
   "source": [
    "from sklearn.neural_network import MLPRegressor\n",
    "nn=MLPRegressor(max_iter=1000,hidden_layer_sizes=(100,10,10,10,10,5),activation='relu',alpha=0)\n",
    "nn.fit(x_train,y_train)\n",
    "nn.score(x_train,y_train)\n",
    "y_pred=nn.predict(x_train)\n",
    "# plt.scatter(x_train[:,[0]],y_train)\n",
    "# plt.scatter(x_train[:,[0]],y_pred,color=\"orange\")\n",
    "\n",
    "v1=dt.datetime.now().toordinal()\n",
    "from datetime import timedelta  \n",
    "import math\n",
    "\n",
    "dates = []\n",
    "for i in range(1, 11):\n",
    "    dates.append((dt.datetime.now() + timedelta(days=i)).toordinal())\n",
    "\n",
    "v=np.array(dates)\n",
    "cases = nn.predict(v[:,np.newaxis])\n",
    "i = 0\n",
    "for item in cases:\n",
    "    date = str(datetime.fromordinal(dates[i]))\n",
    "    print(math.ceil(item))\n",
    "    i += 1"
   ]
  },
  {
   "cell_type": "code",
   "execution_count": null,
   "metadata": {},
   "outputs": [],
   "source": []
  }
 ],
 "metadata": {
  "kernelspec": {
   "display_name": "Python 3",
   "language": "python",
   "name": "python3"
  },
  "language_info": {
   "codemirror_mode": {
    "name": "ipython",
    "version": 3
   },
   "file_extension": ".py",
   "mimetype": "text/x-python",
   "name": "python",
   "nbconvert_exporter": "python",
   "pygments_lexer": "ipython3",
   "version": "3.8.5"
  }
 },
 "nbformat": 4,
 "nbformat_minor": 4
}
